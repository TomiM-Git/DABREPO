{
 "cells": [
  {
   "cell_type": "code",
   "execution_count": null,
   "metadata": {},
   "outputs": [],
   "source": [
    "### PROGRAMA DE ASISTENCIA AL DISEÑO DE CONVERTIDOR DAB ###\n",
    "\n",
    "#   Este programa ejecuta diferentes script de python con el objetivo\n",
    "# de analizar diferentes puntos de funcionamiento del convertidor DAB.\n",
    "# El codigo CalcularCtes.py es la pieza fundamental del programa, ya \n",
    "# que ejecuta el procedimiento de calcular las corrientes instantaneas\n",
    "# y eficaces en el inductor y primario del transformador, a partir de\n",
    "# los datos que se le otorguen. En su interior, dos funciones con el \n",
    "# mismo procedimiento, una realiza impresiones de pantalla y la otra\n",
    "# retorna valores para utilizacion por funciones EntradaVariable.py y\n",
    "# SalidaVariable.py\n",
    "# \n",
    "# Los codigos en EntradaVariable.py y SalidaVariable.py permiten graficar\n",
    "# la corriente eficaz en el inductor y primario de transformador (son\n",
    "# iguales) para diferentes valores de tension de entrada y salida, \n",
    "# respectivamente. Utilizan la funcion CalcularCtes.py\n",
    "# \n",
    "# El codigo en CorrienteMaxInductor.py permite calcular esa corriente,\n",
    "# tambien haciendo uso de CalcularCtes.py pero esta vez variando la\n",
    "# frecuencia, entre 10kHz y 50kHz, y en la condicion de maxima potencia\n",
    "# de funcionamiento, que en este caso es cuando Vi=Vi_max=375V\n",
    "# \n",
    "# El codigo en InduccionNucleos.py ejecuta el codigo de CorrienteMaxInductor.py\n",
    "# multiples veces, permitiendo graficar la induccion magnetica presente\n",
    "# en el nucleo del transformador con la variacion de frecuencia, con el\n",
    "# fin de seleccionar un nucleo con caracteristicas de induccion de \n",
    "# saturacion superiores, asistiendo el diseño del convertidor DAB.\n",
    "\n",
    "# Funciones de python\n",
    "import math\n",
    "import numpy as np\n",
    "import matplotlib as plt\n",
    "# Funciones programadas para el diseño\n",
    "import CalcularCtes\n",
    "import SalidaVariable\n",
    "import EntradaVariable\n",
    "import Parametricas\n",
    "import CorrienteMaxInductor\n",
    "import InduccionNucleos\n",
    "\n",
    "Vi_n=300    #Tension nominal de entrada\n",
    "Vo_n=400    #Tension nominal de salida\n",
    "\n",
    "Vo_min = 320    #Minima tension de salida\n",
    "Vo_max = 480    #Maxima tension de salida\n",
    "Vi_min = 250    #Minima tension de entrada\n",
    "Vi_max = 375    #Maxima tension de entrada\n",
    "\n",
    "n=1.33      #Relacion del transformador de alta frecuencia\n",
    "D=0.4       #Desfase porcentual entre puentes (adimensional)\n",
    "L=56e-6     #Inductancia equivalente entre perdidas de nucleo e inductor complementario\n",
    "fs=40e3     #Frecuencia de conmutacion de llaves electronicas IGBT\n",
    "\n",
    "CalcularCtes.Calcular(Vi_max,Vo_n,n,D,L,fs) #Ejecuta funcion en CalcularCtes.py en peor condicion"
   ]
  },
  {
   "cell_type": "code",
   "execution_count": null,
   "metadata": {},
   "outputs": [],
   "source": [
    "pts = 81    #Numero de puntos a graficar\n",
    "SalidaVariable.graficarCorriente(Vi_n,Vo_min,Vo_max,n,L,fs,pts)\n",
    "pts = 62    #Numero de puntos a graficar\n",
    "EntradaVariable.graficarCorriente(Vo_n,Vi_min,Vi_max,n,L,fs,pts)"
   ]
  },
  {
   "cell_type": "code",
   "execution_count": null,
   "metadata": {},
   "outputs": [],
   "source": [
    "# Para graficar corriente eficaz en inductor en funcion de \n",
    "# la frecuencia entre 10kHz y 50kHz. \n",
    "\n",
    "#CorrienteMaxInductor.graficarParametrica(Vi_max,Vo_n,n,D,L)\n",
    "\n",
    "# Variables especificas codigo InduccionNucleos.py\n",
    "# Calculos de constantes Ap=Aw*Ae para diferentes nucleos\n",
    "# disponibles en el mercado.\n",
    "\n",
    "J=4.5*1e6   # Densidad de corriente\n",
    "k=0.75      # Factor de apilamiento\n",
    "\n",
    "#Nucleo EI2811\n",
    "Aw0 = 6.35*12.8\n",
    "Ae0 = 76\n",
    "Ap0 = Aw0*Ae0/1e12 #6177 mm4\n",
    "#Nucleo EI3011\n",
    "Aw1 = 5.2*16\n",
    "Ae1 = 105.5\n",
    "Ap1 = Aw1*Ae1/1e12 #8778 mm4\n",
    "#Nucleo EI3313\n",
    "Aw2 = 7.3*19.05\n",
    "Ae2 = 108\n",
    "Ap2 = Aw2*Ae2/1e12 #15019 mm4\n",
    "#Nucleo EI3512T\n",
    "Aw3 = 8.05*18\n",
    "Ae3 = 117\n",
    "Ap3 = Aw3*Ae3/1e12 #16953 mm4\n",
    "#Nucleo EI4012\n",
    "Aw4 = 8.6*20\n",
    "Ae4 = 136\n",
    "Ap4 = Aw4*Ae4/1e12 #23392 mm4\n",
    "\n",
    "Ap_vector = np.array([Ap0,Ap1,Ap2,Ap3,Ap4])\n",
    "\n",
    "InduccionNucleos.graficarInducciones(Ap_vector,Vi_max,Vo_n,n,D,L,k,J)"
   ]
  }
 ],
 "metadata": {
  "kernelspec": {
   "display_name": "Python 3.6.9 64-bit",
   "language": "python",
   "name": "python3"
  },
  "language_info": {
   "codemirror_mode": {
    "name": "ipython",
    "version": 3
   },
   "file_extension": ".py",
   "mimetype": "text/x-python",
   "name": "python",
   "nbconvert_exporter": "python",
   "pygments_lexer": "ipython3",
   "version": "3.6.9"
  },
  "orig_nbformat": 4,
  "vscode": {
   "interpreter": {
    "hash": "31f2aee4e71d21fbe5cf8b01ff0e069b9275f58929596ceb00d14d90e3e16cd6"
   }
  }
 },
 "nbformat": 4,
 "nbformat_minor": 2
}
