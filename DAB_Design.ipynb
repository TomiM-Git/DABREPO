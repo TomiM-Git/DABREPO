{
 "cells": [
  {
   "cell_type": "code",
   "execution_count": null,
   "metadata": {},
   "outputs": [],
   "source": [
    "import math\n",
    "import numpy as np\n",
    "import matplotlib as plt\n",
    "\n",
    "import CalcularCtes\n",
    "import SalidaVariable\n",
    "import EntradaVariable\n",
    "import Parametricas"
   ]
  },
  {
   "cell_type": "code",
   "execution_count": null,
   "metadata": {},
   "outputs": [],
   "source": [
    "# DAB DESIGNER SCRIPT ##\n",
    "\n",
    "Vi_n=375\n",
    "Vo_n=400\n",
    "n=1.33\n",
    "\n",
    "D=0.4\n",
    "\n",
    "L=45e-6\n",
    "fs=40e3\n",
    "\n",
    "CalcularCtes.Calcular(Vi_n,Vo_n,n,D,L,fs)"
   ]
  },
  {
   "cell_type": "code",
   "execution_count": null,
   "metadata": {},
   "outputs": [],
   "source": [
    "Vo_min = 320\n",
    "Vo_max = 480\n",
    "Vi_min = 250\n",
    "Vi_max = 375\n",
    "\n",
    "pts = 81\n",
    "SalidaVariable.graficarCorriente(Vi_n,Vo_min,Vo_max,n,L,fs,pts)\n",
    "\n",
    "pts = 62\n",
    "EntradaVariable.graficarCorriente(Vo_n,Vi_min,Vi_max,n,L,fs,pts)\n"
   ]
  },
  {
   "cell_type": "code",
   "execution_count": null,
   "metadata": {},
   "outputs": [],
   "source": []
  }
 ],
 "metadata": {
  "kernelspec": {
   "display_name": "Python 3.6.9 64-bit",
   "language": "python",
   "name": "python3"
  },
  "language_info": {
   "codemirror_mode": {
    "name": "ipython",
    "version": 3
   },
   "file_extension": ".py",
   "mimetype": "text/x-python",
   "name": "python",
   "nbconvert_exporter": "python",
   "pygments_lexer": "ipython3",
   "version": "3.6.9"
  },
  "orig_nbformat": 4,
  "vscode": {
   "interpreter": {
    "hash": "31f2aee4e71d21fbe5cf8b01ff0e069b9275f58929596ceb00d14d90e3e16cd6"
   }
  }
 },
 "nbformat": 4,
 "nbformat_minor": 2
}
